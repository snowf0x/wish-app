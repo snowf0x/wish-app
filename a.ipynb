{
 "cells": [
  {
   "cell_type": "code",
   "execution_count": 3,
   "metadata": {},
   "outputs": [
    {
     "name": "stdout",
     "output_type": "stream",
     "text": [
      "10\n",
      "not a prime number\n"
     ]
    }
   ],
   "source": [
    "#1 prime no\n",
    "a=int(input())\n",
    "c=0\n",
    "for i in range(1,a+1):\n",
    "    if(a%i==0):\n",
    "        c=c+1\n",
    "if(c==2):\n",
    "    print(\"it is a prime number\")\n",
    "else:\n",
    "    print(\"not a prime number\")"
   ]
  },
  {
   "cell_type": "code",
   "execution_count": 4,
   "metadata": {},
   "outputs": [
    {
     "name": "stdout",
     "output_type": "stream",
     "text": [
      "2,3,5,7,11,13,17,19,23,29,31,37,41,43,47,53,59,61,67,71,73,79,83,89,97,"
     ]
    }
   ],
   "source": [
    "#2 sum of prime no between 1 to 100\n",
    "for i in range(1,101):\n",
    "    c=0\n",
    "    for j in range(1,i+1):\n",
    "        if(i%j==0):\n",
    "            c=c+1\n",
    "    if(c==2):\n",
    "        print(i,end=\",\")"
   ]
  },
  {
   "cell_type": "code",
   "execution_count": 7,
   "metadata": {},
   "outputs": [
    {
     "name": "stdout",
     "output_type": "stream",
     "text": [
      "7\n",
      "factorial of a number= 5040\n",
      "sum of digit= 9\n"
     ]
    }
   ],
   "source": [
    "#3 factorial and sum of digit\n",
    "n=int(input())\n",
    "f=1\n",
    "for i in range(1,n+1):\n",
    "    f=f*i\n",
    "print(\"factorial of a number=\",f)\n",
    "s=0\n",
    "while(f):\n",
    "    s+=f%10\n",
    "    f=f//10\n",
    "print(\"sum of digit=\",s)"
   ]
  },
  {
   "cell_type": "code",
   "execution_count": 10,
   "metadata": {},
   "outputs": [
    {
     "name": "stdout",
     "output_type": "stream",
     "text": [
      "10\n",
      "0 1 1 2 3 5 8 13 21 34 "
     ]
    }
   ],
   "source": [
    "#4 fibonacci series\n",
    "n=int(input())\n",
    "a=0 \n",
    "b=1\n",
    "print(a,b,end=\" \")\n",
    "c=0\n",
    "for i in range(n-2):\n",
    "    c=a+b\n",
    "    print(c,end=\" \")\n",
    "    a=b\n",
    "    b=c"
   ]
  },
  {
   "cell_type": "code",
   "execution_count": 11,
   "metadata": {},
   "outputs": [
    {
     "name": "stdout",
     "output_type": "stream",
     "text": [
      "10\n",
      "0 2 8 34 "
     ]
    }
   ],
   "source": [
    "#5 even fibonacci series\n",
    "n=int(input())\n",
    "a=0 \n",
    "b=1\n",
    "print(a,end=\" \")\n",
    "c=0\n",
    "for i in range(n-2):\n",
    "    c=a+b\n",
    "    if(c%2==0):\n",
    "        print(c,end=\" \")\n",
    "    a=b\n",
    "    b=c"
   ]
  },
  {
   "cell_type": "code",
   "execution_count": 17,
   "metadata": {},
   "outputs": [
    {
     "name": "stdout",
     "output_type": "stream",
     "text": [
      "16\n",
      "4.0\n"
     ]
    }
   ],
   "source": [
    "#6 square root of a number\n",
    "import math\n",
    "n=int(input())\n",
    "print(pow(n,1/2))"
   ]
  },
  {
   "cell_type": "code",
   "execution_count": 47,
   "metadata": {},
   "outputs": [
    {
     "name": "stdout",
     "output_type": "stream",
     "text": [
      "   December 2019\n",
      "Mo Tu We Th Fr Sa Su\n",
      "                   1\n",
      " 2  3  4  5  6  7  8\n",
      " 9 10 11 12 13 14 15\n",
      "16 17 18 19 20 21 22\n",
      "23 24 25 26 27 28 29\n",
      "30 31\n",
      "\n"
     ]
    }
   ],
   "source": [
    "#7 Display calender\n",
    "import calendar\n",
    "print(calendar.month(2019,12))"
   ]
  },
  {
   "cell_type": "code",
   "execution_count": 20,
   "metadata": {},
   "outputs": [
    {
     "name": "stdout",
     "output_type": "stream",
     "text": [
      "[[1 2 3]\n",
      " [4 5 6]\n",
      " [7 8 9]]\n"
     ]
    }
   ],
   "source": [
    "#8 Display a matrix\n",
    "import numpy as np\n",
    "print(np.matrix(\"1,2,3;4,5,6;7,8,9\"))"
   ]
  },
  {
   "cell_type": "code",
   "execution_count": 23,
   "metadata": {},
   "outputs": [
    {
     "name": "stdout",
     "output_type": "stream",
     "text": [
      "[[ 6  8]\n",
      " [10 12]]\n"
     ]
    }
   ],
   "source": [
    "#9 addition of two square matrices\n",
    "import numpy as np\n",
    "print(np.array([[1,2],[3,4]])+np.matrix([[5,6],[7,8]]))"
   ]
  },
  {
   "cell_type": "code",
   "execution_count": 25,
   "metadata": {},
   "outputs": [
    {
     "name": "stdout",
     "output_type": "stream",
     "text": [
      "[[ 5 12 21 32]\n",
      " [ 5 12 21 32]\n",
      " [ 5 12 21 32]\n",
      " [ 5 12 21 32]\n",
      " [ 5 12 21 32]]\n"
     ]
    }
   ],
   "source": [
    "#10 multiplication of two 5X4 matrices\n",
    "import numpy as np\n",
    "print(np.array([[1,2,3,4],[1,2,3,4],[1,2,3,4],[1,2,3,4],[1,2,3,4]])*np.array([[5,6,7,8],[5,6,7,8],[5,6,7,8],[5,6,7,8],[5,6,7,8]]))"
   ]
  },
  {
   "cell_type": "code",
   "execution_count": 30,
   "metadata": {},
   "outputs": [
    {
     "name": "stdout",
     "output_type": "stream",
     "text": [
      "1 3 1 3\n",
      "2.8284271247461903\n"
     ]
    }
   ],
   "source": [
    "#11 distance between two points\n",
    "x1,x2,y1,y2=map(int,input().split())\n",
    "print(((x1-x2)**2+(y1-y2)**2)**(1/2))"
   ]
  },
  {
   "cell_type": "code",
   "execution_count": 33,
   "metadata": {},
   "outputs": [
    {
     "name": "stdout",
     "output_type": "stream",
     "text": [
      "shailesh\n",
      "counter of character= 8\n",
      "{0: 's', 1: 'h', 2: 'a', 3: 'i', 4: 'l', 5: 'e', 6: 's', 7: 'h'}\n"
     ]
    }
   ],
   "source": [
    "#12 count no of characters in a string and store them in a dictionary\n",
    "s=input()\n",
    "c=0\n",
    "dic={}\n",
    "for i in range(len(s)):\n",
    "    c=c+1\n",
    "    dic[i]=s[i]\n",
    "print(\"counter of character=\",c)\n",
    "print(dic)"
   ]
  },
  {
   "cell_type": "code",
   "execution_count": 44,
   "metadata": {},
   "outputs": [
    {
     "name": "stdout",
     "output_type": "stream",
     "text": [
      "they are colliding\n"
     ]
    }
   ],
   "source": [
    "#13 Ball is colliding or not\n",
    "def colliding(t1,t2):\n",
    "    q=((t1[0]-t2[0])**2+(t1[1]-t2[1])**2)**(1/2)\n",
    "    s=t1[2]+t2[2]\n",
    "    if(q<=s):\n",
    "        print(\"they are colliding\")\n",
    "    else:\n",
    "        print(\"they are not colliding\")\n",
    "colliding((1,2,3),(4,5,2))"
   ]
  },
  {
   "cell_type": "code",
   "execution_count": 45,
   "metadata": {},
   "outputs": [
    {
     "name": "stdout",
     "output_type": "stream",
     "text": [
      "[3, 2, 1]\n"
     ]
    }
   ],
   "source": [
    "#14 reverse a list\n",
    "def rev(l):\n",
    "    print(l[::-1])\n",
    "rev([1,2,3])"
   ]
  },
  {
   "cell_type": "code",
   "execution_count": 50,
   "metadata": {},
   "outputs": [
    {
     "name": "stdout",
     "output_type": "stream",
     "text": [
      "1 2 3 4 5\n"
     ]
    }
   ],
   "source": [
    "#15 find all duplicates in a list\n",
    "def dups(l):\n",
    "    li=[]\n",
    "    for i in l:\n",
    "        if(l.count(i)>1):\n",
    "            if(i not in li):\n",
    "                li.append(i)\n",
    "    print(*li)\n",
    "dups([1,2,3,1,2,4,1,5,3,4,5,6,7])"
   ]
  },
  {
   "cell_type": "code",
   "execution_count": 55,
   "metadata": {},
   "outputs": [
    {
     "name": "stdout",
     "output_type": "stream",
     "text": [
      "5 9 7\n",
      "17.41228014936585\n"
     ]
    }
   ],
   "source": [
    "#16 area of a triangle\n",
    "def area(a,b,c):\n",
    "    s=(a+b+c)/2\n",
    "    print((s*(s-a)*(s-b)*(s-c))**(1/2))\n",
    "a,b,c=map(int,input().split())\n",
    "area(a,b,c)"
   ]
  },
  {
   "cell_type": "code",
   "execution_count": 61,
   "metadata": {},
   "outputs": [
    {
     "name": "stdout",
     "output_type": "stream",
     "text": [
      "[[9 8 6]\n",
      " [8 7 5]\n",
      " [5 5 5]]\n"
     ]
    }
   ],
   "source": [
    "#17 2d array contains b/w 5 and 10\n",
    "import numpy as np\n",
    "import random\n",
    "a=np.array([[0,0,0],[0,0,0],[0,0,0]])\n",
    "for i in range(3):\n",
    "    for j in range(3):\n",
    "        a[i][j]=random.randrange(5,10)\n",
    "print(a)"
   ]
  },
  {
   "cell_type": "code",
   "execution_count": 63,
   "metadata": {},
   "outputs": [],
   "source": [
    "#18 save data of a student in a json file\n",
    "import json\n",
    "my_details = {\n",
    "    'name': 'John Doe','age': 29,'roll':12,'phone':7896541278,'dob':'3/12/1999'}\n",
    "with open('personal.json', 'w') as json_file:\n",
    "    json.dump(my_details, json_file)"
   ]
  },
  {
   "cell_type": "code",
   "execution_count": 71,
   "metadata": {},
   "outputs": [
    {
     "name": "stdout",
     "output_type": "stream",
     "text": [
      "{'h': 2, 'e': 2, 'l': 3, 'o': 4, 'w': 3, 'r': 1, 'd': 3, 'a': 3, 'n': 4, 't': 2, 'i': 2, 's': 1, 'm': 2, 'y': 1, 'k': 1}\n"
     ]
    }
   ],
   "source": [
    "#19 store frequency of each character in a file\n",
    "f=open(\"python.txt\",'w')\n",
    "f.write(\"hello world and what is my name i dont know\")\n",
    "f.close()\n",
    "f=open(\"python.txt\",'r')\n",
    "x=f.read()\n",
    "x.replace(\"\\n\",\" \")\n",
    "l=[]\n",
    "for i in x:\n",
    "    l.append(i)\n",
    "li=[]\n",
    "dic={}\n",
    "for i in l:\n",
    "    if(i==\" \"):\n",
    "        continue\n",
    "    if(i not in li):\n",
    "        li.append(i)\n",
    "        dic[i]=l.count(i)\n",
    "print(dic)"
   ]
  },
  {
   "cell_type": "code",
   "execution_count": 85,
   "metadata": {},
   "outputs": [
    {
     "name": "stdout",
     "output_type": "stream",
     "text": [
      "hello world\n",
      "{'h': 1, 'e': 1, 'l': 3, 'o': 2, 'w': 1, 'r': 1, 'd': 1}\n"
     ]
    }
   ],
   "source": [
    "#20 store frequency of each character in a file\n",
    "import sys\n",
    "f=open(\"python1.txt\",'w')\n",
    "try:\n",
    "    s=input()\n",
    "except ValueError:\n",
    "    print(\"reenter the correct data\")\n",
    "    sys.exit()\n",
    "f.write(s)\n",
    "f.close()\n",
    "f=open(\"python1.txt\",'r')\n",
    "x=f.read()\n",
    "x.replace(\"\\n\",\" \")\n",
    "l=[]\n",
    "for i in x:\n",
    "    l.append(i)\n",
    "li=[]\n",
    "dic={}\n",
    "for i in l:\n",
    "    if(i==\" \"):\n",
    "        continue\n",
    "    if(i not in li):\n",
    "        li.append(i)\n",
    "        dic[i]=l.count(i)\n",
    "print(dic)"
   ]
  },
  {
   "cell_type": "code",
   "execution_count": null,
   "metadata": {},
   "outputs": [],
   "source": []
  }
 ],
 "metadata": {
  "kernelspec": {
   "display_name": "Python 3",
   "language": "python",
   "name": "python3"
  },
  "language_info": {
   "codemirror_mode": {
    "name": "ipython",
    "version": 3
   },
   "file_extension": ".py",
   "mimetype": "text/x-python",
   "name": "python",
   "nbconvert_exporter": "python",
   "pygments_lexer": "ipython3",
   "version": "3.7.1"
  }
 },
 "nbformat": 4,
 "nbformat_minor": 2
}
